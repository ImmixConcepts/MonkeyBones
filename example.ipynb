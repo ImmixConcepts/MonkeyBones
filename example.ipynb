{
 "cells": [
  {
   "cell_type": "markdown",
   "source": [
    "# Aemotrics Example"
   ],
   "metadata": {
    "collapsed": false
   }
  },
  {
   "cell_type": "markdown",
   "id": "db74a314-19c4-484e-b881-d71c2e47f005",
   "metadata": {},
   "source": [
    "Install Aemotrics"
   ]
  },
  {
   "cell_type": "code",
   "execution_count": 1,
   "id": "2fa954de-67cb-4169-92e6-48e749152c9d",
   "metadata": {},
   "outputs": [
    {
     "name": "stdout",
     "output_type": "stream",
     "text": [
      "Loading DLC 2.2.3...\n"
     ]
    },
    {
     "name": "stderr",
     "output_type": "stream",
     "text": [
      "WARNING:py.warnings:C:\\Users\\louie\\git\\aemotrics\\venv\\lib\\site-packages\\deeplabcut\\__init__.py:81: UserWarning: \n",
      "        As PyTorch is not installed, unsupervised identity learning will not be available.\n",
      "        Please run `pip install torch`, or ignore this warning.\n",
      "        \n",
      "  warnings.warn(\n",
      "\n"
     ]
    },
    {
     "name": "stdout",
     "output_type": "stream",
     "text": [
      "DLC loaded in light mode; you cannot use any GUI (labeling, relabeling and standalone GUI)\n"
     ]
    }
   ],
   "source": [
    "# !pip install aemotrics\n",
    "import aemotrics"
   ]
  },
  {
   "cell_type": "markdown",
   "id": "20d310c4-c6a2-4bdf-8c72-d4d54272acd0",
   "metadata": {},
   "source": [
    "Download the latest model and an example video"
   ]
  },
  {
   "cell_type": "code",
   "execution_count": 2,
   "id": "22bc6475-19c6-4864-8136-0b66c4c19556",
   "metadata": {},
   "outputs": [],
   "source": [
    "model_path = r\"C:\\Users\\louie\\git\\aemotrics\\aemotrics\\Aemotrics_V3-Nate-08-10-2022\"\n",
    "vid_path = r\"C:\\Users\\louie\\Desktop\\CompleteFlaccid2.mp4\""
   ]
  },
  {
   "cell_type": "markdown",
   "id": "ffd6c84e-8c0d-4ad2-8e9a-ec05b4f0ea79",
   "metadata": {},
   "source": [
    "Run the analysis"
   ]
  },
  {
   "cell_type": "code",
   "execution_count": 3,
   "id": "b0f408c6-a0d8-4466-a730-8dbf9d4f7ceb",
   "metadata": {},
   "outputs": [
    {
     "name": "stderr",
     "output_type": "stream",
     "text": [
      "WARNING:py.warnings:C:\\Users\\louie\\git\\aemotrics\\venv\\lib\\site-packages\\tensorflow\\python\\keras\\engine\\base_layer_v1.py:1694: UserWarning: `layer.apply` is deprecated and will be removed in a future version. Please use `layer.__call__` method instead.\n",
      "  warnings.warn('`layer.apply` is deprecated and '\n",
      "\n"
     ]
    },
    {
     "name": "stdout",
     "output_type": "stream",
     "text": [
      "dlc_model_path: C:\\Users\\louie\\git\\aemotrics\\aemotrics\\Aemotrics_V3-Nate-08-10-2022\n",
      "Using snapshot-650000 for model C:\\Users\\louie\\git\\aemotrics\\aemotrics\\Aemotrics_V3-Nate-08-10-2022\\dlc-models\\iteration-0\\Aemotrics_V3Jan20-trainset95shuffle1\n",
      "No video(s) were found. Please check your paths and/or 'video_type'.\n",
      "No video(s) were found. Please check your paths and/or 'videotype'.\n"
     ]
    },
    {
     "ename": "FileNotFoundError",
     "evalue": "C:\\Users\\louie\\Desktop\\CompleteFlaccid2DLC_resnet152_Aemotrics_V3Jan20shuffle1_650000_filtered.h5 is not a file",
     "output_type": "error",
     "traceback": [
      "\u001B[1;31m---------------------------------------------------------------------------\u001B[0m",
      "\u001B[1;31mFileNotFoundError\u001B[0m                         Traceback (most recent call last)",
      "Cell \u001B[1;32mIn [3], line 1\u001B[0m\n\u001B[1;32m----> 1\u001B[0m analysis \u001B[38;5;241m=\u001B[39m \u001B[43maemotrics\u001B[49m\u001B[38;5;241;43m.\u001B[39;49m\u001B[43manalysis\u001B[49m\u001B[38;5;241;43m.\u001B[39;49m\u001B[43manalyze\u001B[49m\u001B[43m(\u001B[49m\u001B[43m[\u001B[49m\u001B[43mvid_path\u001B[49m\u001B[43m]\u001B[49m\u001B[43m,\u001B[49m\u001B[43m \u001B[49m\u001B[43mdlc_model_path\u001B[49m\u001B[38;5;241;43m=\u001B[39;49m\u001B[43mmodel_path\u001B[49m\u001B[43m)\u001B[49m[\u001B[38;5;241m0\u001B[39m]\n",
      "File \u001B[1;32m~\\git\\aemotrics\\aemotrics\\analysis.py:540\u001B[0m, in \u001B[0;36manalyze\u001B[1;34m(videos, write_csv, draw, plot, dlc_model_path)\u001B[0m\n\u001B[0;32m    538\u001B[0m \u001B[38;5;28mprint\u001B[39m(\u001B[38;5;124mf\u001B[39m\u001B[38;5;124m\"\u001B[39m\u001B[38;5;124mdlc_model_path: \u001B[39m\u001B[38;5;132;01m{\u001B[39;00mdlc_model_path\u001B[38;5;132;01m}\u001B[39;00m\u001B[38;5;124m\"\u001B[39m)\n\u001B[0;32m    539\u001B[0m h5s, model \u001B[38;5;241m=\u001B[39m dga\u001B[38;5;241m.\u001B[39mdlc_analyze(dlc_model_path, videos, gputouse\u001B[38;5;241m=\u001B[39m\u001B[38;5;241m0\u001B[39m)\n\u001B[1;32m--> 540\u001B[0m h5s \u001B[38;5;241m=\u001B[39m \u001B[43mdga\u001B[49m\u001B[38;5;241;43m.\u001B[39;49m\u001B[43mfilter\u001B[49m\u001B[38;5;241;43m.\u001B[39;49m\u001B[43mthreshold_confidence\u001B[49m\u001B[43m(\u001B[49m\u001B[43mh5s\u001B[49m\u001B[43m,\u001B[49m\u001B[43m \u001B[49m\u001B[38;5;241;43m0.85\u001B[39;49m\u001B[43m)\u001B[49m\n\u001B[0;32m    541\u001B[0m \u001B[38;5;28;01mreturn\u001B[39;00m do_analysis(h5s, videos, model, write_csv, draw, plot)\n",
      "File \u001B[1;32m~\\git\\aemotrics\\venv\\lib\\site-packages\\dlc_generic_analysis\\filter.py:20\u001B[0m, in \u001B[0;36mthreshold_confidence\u001B[1;34m(h5s, min_likelihood, save_csv)\u001B[0m\n\u001B[0;32m     18\u001B[0m \u001B[38;5;28;01mfor\u001B[39;00m h5_path \u001B[38;5;129;01min\u001B[39;00m h5s:\n\u001B[0;32m     19\u001B[0m     \u001B[38;5;28;01mif\u001B[39;00m \u001B[38;5;129;01mnot\u001B[39;00m os\u001B[38;5;241m.\u001B[39mpath\u001B[38;5;241m.\u001B[39misfile(h5_path):\n\u001B[1;32m---> 20\u001B[0m         \u001B[38;5;28;01mraise\u001B[39;00m \u001B[38;5;167;01mFileNotFoundError\u001B[39;00m(\u001B[38;5;124mf\u001B[39m\u001B[38;5;124m\"\u001B[39m\u001B[38;5;132;01m{\u001B[39;00mh5_path\u001B[38;5;132;01m}\u001B[39;00m\u001B[38;5;124m is not a file\u001B[39m\u001B[38;5;124m\"\u001B[39m)\n\u001B[0;32m     21\u001B[0m     out_path \u001B[38;5;241m=\u001B[39m os\u001B[38;5;241m.\u001B[39mpath\u001B[38;5;241m.\u001B[39msplitext(h5_path)[\u001B[38;5;241m0\u001B[39m] \u001B[38;5;241m+\u001B[39m \u001B[38;5;124m\"\u001B[39m\u001B[38;5;124m_threshold.h5\u001B[39m\u001B[38;5;124m\"\u001B[39m\n\u001B[0;32m     22\u001B[0m     ret_h5s\u001B[38;5;241m.\u001B[39mappend(out_path)\n",
      "\u001B[1;31mFileNotFoundError\u001B[0m: C:\\Users\\louie\\Desktop\\CompleteFlaccid2DLC_resnet152_Aemotrics_V3Jan20shuffle1_650000_filtered.h5 is not a file"
     ]
    }
   ],
   "source": [
    "analysis = aemotrics.analysis.analyze([vid_path], dlc_model_path=model_path)[0]"
   ]
  },
  {
   "cell_type": "markdown",
   "id": "b3f41481-0c03-4622-940b-2ec93cdd457b",
   "metadata": {},
   "source": [
    "Plot some data from the analysis"
   ]
  },
  {
   "cell_type": "code",
   "execution_count": null,
   "id": "e60c2e27-5db6-424b-9fde-674e97f1620b",
   "metadata": {},
   "outputs": [],
   "source": [
    "from matplotlib import pyplot as plt\n",
    "%matplotlib inline"
   ]
  },
  {
   "cell_type": "code",
   "execution_count": null,
   "id": "5e03afa2-75b5-47fa-99aa-c583ac24c794",
   "metadata": {},
   "outputs": [],
   "source": [
    "_, ax = plt.subplots()\n",
    "ax.set_title(\"Eye Brow Heights\")\n",
    "ax.plot(analysis.brow_height_r, label=\"Right\")\n",
    "ax.plot(analysis.brow_height_l, label=\"Left\")\n",
    "ax.legend()\n",
    "plt.show()"
   ]
  },
  {
   "cell_type": "code",
   "execution_count": null,
   "id": "b442fe76-209e-4056-850b-6b09f4624125",
   "metadata": {},
   "outputs": [],
   "source": [
    "_, ax = plt.subplots()\n",
    "ax.set_title(\"Smile Symmetry\")\n",
    "ax.plot(analysis.symmetry)\n",
    "plt.show()"
   ]
  },
  {
   "cell_type": "code",
   "execution_count": null,
   "id": "a47c54d9-f30f-4e09-ad26-5c5a4372b72b",
   "metadata": {},
   "outputs": [],
   "source": [
    "_, ax = plt.subplots()\n",
    "ax.set_title(\"Lip Heights\")\n",
    "ax.plot(analysis.lip_height_r, label=\"Right\")\n",
    "ax.plot(analysis.lip_height_l, label=\"left\")\n",
    "plt.show()"
   ]
  },
  {
   "cell_type": "code",
   "execution_count": null,
   "id": "80b06cac-2651-47f9-92e9-2b2d1fc303b4",
   "metadata": {},
   "outputs": [],
   "source": [
    "_, ax = plt.subplots()\n",
    "ax.set_title(\"Mouth Area Ratios\")\n",
    "ax.plot(analysis.mouth_area_ratios)\n",
    "plt.show()"
   ]
  }
 ],
 "metadata": {
  "kernelspec": {
   "display_name": "Python 3 (ipykernel)",
   "language": "python",
   "name": "python3"
  },
  "language_info": {
   "codemirror_mode": {
    "name": "ipython",
    "version": 3
   },
   "file_extension": ".py",
   "mimetype": "text/x-python",
   "name": "python",
   "nbconvert_exporter": "python",
   "pygments_lexer": "ipython3",
   "version": "3.8.10"
  }
 },
 "nbformat": 4,
 "nbformat_minor": 5
}
