{
 "nbformat": 4,
 "nbformat_minor": 0,
 "metadata": {
  "colab": {
   "name": "aemotrics.ipynb",
   "provenance": [],
   "collapsed_sections": []
  },
  "kernelspec": {
   "name": "python3",
   "display_name": "Python 3"
  },
  "language_info": {
   "name": "python"
  },
  "accelerator": "GPU"
 },
 "cells": [
  {
   "cell_type": "code",
   "execution_count": null,
   "outputs": [],
   "source": [
    "!pip install ./dist/*\n",
    "import aemotrics"
   ],
   "metadata": {
    "collapsed": false,
    "pycharm": {
     "name": "#%%\n",
     "is_executing": true
    }
   }
  },
  {
   "cell_type": "code",
   "execution_count": null,
   "outputs": [],
   "source": [],
   "metadata": {
    "collapsed": false,
    "pycharm": {
     "name": "#%%\n",
     "is_executing": true
    }
   }
  },
  {
   "cell_type": "code",
   "source": [
    "model_path = r\"/content/drive/MyDrive/Aemotrics/Aemotrics_V3-Nate-2021-01-20\"\n",
    "vid_path = \"/content/drive/MyDrive/Aemotrics/CompleteFlaccid1.mp4\""
   ],
   "metadata": {
    "id": "Bav4NQYdf0kR"
   },
   "execution_count": null,
   "outputs": []
  },
  {
   "cell_type": "markdown",
   "source": [
    "Run the analysis"
   ],
   "metadata": {
    "id": "M8uDuT69uR7L"
   }
  },
  {
   "cell_type": "code",
   "source": [
    "analysis = aemotrics.analysis.analyze(model_path, [vid_path])"
   ],
   "metadata": {
    "colab": {
     "base_uri": "https://localhost:8080/"
    },
    "id": "cArau1T6sqcx",
    "outputId": "b38f79b1-e298-4e77-c66f-c598ddf1606e"
   },
   "execution_count": null,
   "outputs": []
  }
 ]
}